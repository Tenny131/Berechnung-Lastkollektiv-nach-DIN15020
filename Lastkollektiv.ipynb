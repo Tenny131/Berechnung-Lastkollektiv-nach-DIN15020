{
 "cells": [
  {
   "cell_type": "code",
   "execution_count": 97,
   "metadata": {},
   "outputs": [],
   "source": [
    "import csv\n",
    "\n",
    "def read_csv_data(filename):\n",
    "    data = []\n",
    "    with open(filename, 'r', encoding='Latin-1') as file:\n",
    "        reader = csv.reader(file, delimiter=';')\n",
    "        next(reader)  # Überspringe Header-Zeile\n",
    "        for row in reader:\n",
    "            nutzlast = float(row[0].replace(',', '.'))\n",
    "            gewicht = float(row[1].replace(',', '.'))\n",
    "            laufzeit = int(row[2])\n",
    "            data.append((nutzlast, gewicht, laufzeit))\n",
    "    return data\n",
    "\n",
    "# Beispiel: Dateiname der CSV-Datei\n",
    "filename = 'data.csv'\n",
    "\n",
    "# Aufruf der Funktion, um Daten aus der CSV-Datei zu lesen\n",
    "data = read_csv_data(filename)\n",
    "\n"
   ]
  },
  {
   "cell_type": "code",
   "execution_count": 98,
   "metadata": {},
   "outputs": [],
   "source": [
    "group_size = 20\n",
    "laufzeit_pro_tag = []\n",
    "i = 0\n",
    "\n",
    "while i < len(data):\n",
    "    group = data[i:i+group_size]\n",
    "    laufzeit = sum(entry[2] for entry in group)\n",
    "    laufzeit_pro_tag.append(laufzeit)\n",
    "    i += group_size\n",
    "\n",
    "durchschnitt_laufzeit = sum(laufzeit_pro_tag) / (len(laufzeit_pro_tag))"
   ]
  },
  {
   "cell_type": "code",
   "execution_count": 99,
   "metadata": {},
   "outputs": [],
   "source": [
    "import math\n",
    "\n",
    "\n",
    "def calculate_k(data):\n",
    "    k = 0\n",
    "\n",
    "    for d in data:\n",
    "        nutzlast = d[0]\n",
    "        gewicht = d[1]\n",
    "        laufzeit = d[2]\n",
    "\n",
    "        beta = nutzlast / 5000\n",
    "        gamma = gewicht / 5000\n",
    "\n",
    "        t_i = (laufzeit  / sum(d[2] for d in data))\n",
    "\n",
    "\n",
    "        k += (beta + gamma) ** 3 * t_i \n",
    "\n",
    "    k = math.pow(k, 1/3)\n",
    "    return k\n",
    "\n",
    "# Aufruf der Funktion mit den gegebenen Daten\n",
    "k = calculate_k(data)\n",
    "maximale_laufzeit = max(entry[2] for entry in data)\n",
    "\n"
   ]
  },
  {
   "attachments": {},
   "cell_type": "markdown",
   "metadata": {},
   "source": [
    "*Auswertung*"
   ]
  },
  {
   "cell_type": "code",
   "execution_count": 100,
   "metadata": {},
   "outputs": [
    {
     "name": "stdout",
     "output_type": "stream",
     "text": [
      "k= 0.532\n",
      "Maximale Laufzeit: 12.000 min\n",
      "Durchschnittliche Laufzeit: 2.562 h\n",
      "Das Lastkollektiv ist mittel\n"
     ]
    }
   ],
   "source": [
    "print(f\"k= {k:.3f}\")\n",
    "print(f\"Maximale Laufzeit: {maximale_laufzeit:.3f} min\")\n",
    "print(f\"Durchschnittliche Laufzeit: {durchschnitt_laufzeit / 60:.3f} h\")\n",
    "\n",
    "if(k < 0.53):\n",
    "    print('Das Lastkollektiv ist leicht')\n",
    "elif(0.53 < k < 0.67):\n",
    "    print('Das Lastkollektiv ist mittel')\n",
    "elif(0.67 < k < 0.85):\n",
    "    print('Das Lastkollektiv ist schwer')\n",
    "else:\n",
    "    print('Fehler')"
   ]
  }
 ],
 "metadata": {
  "kernelspec": {
   "display_name": "Python 3",
   "language": "python",
   "name": "python3"
  },
  "language_info": {
   "codemirror_mode": {
    "name": "ipython",
    "version": 3
   },
   "file_extension": ".py",
   "mimetype": "text/x-python",
   "name": "python",
   "nbconvert_exporter": "python",
   "pygments_lexer": "ipython3",
   "version": "3.10.11"
  },
  "orig_nbformat": 4
 },
 "nbformat": 4,
 "nbformat_minor": 2
}
