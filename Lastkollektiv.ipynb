{
 "cells": [
  {
   "attachments": {},
   "cell_type": "markdown",
   "metadata": {},
   "source": [
    "*Einlesen und vorbereiten der Datei*"
   ]
  },
  {
   "cell_type": "code",
   "execution_count": 29,
   "metadata": {},
   "outputs": [],
   "source": [
    "import pandas as pd\n",
    "# CSV-Datei einlesen und DataFrame erstellen\n",
    "data = pd.read_csv('kl3.csv',  delimiter=';', encoding='Latin-1')\n",
    "\n",
    "# Umbenennen der Spalte 'Gewicht Anschlag- und Lastaufnahmemittel [kg]'\n",
    "data = data.rename(columns={'Gewicht Anschlag- und Lastaufnahmemittel [kg]': 'Gewicht Tragmittel [kg]'})\n",
    "\n",
    "# Konvertiere die Spalte 'Gewicht Anschlag- und Lastaufnahmemittel [kg]' in numerische Werte\n",
    "data['Gewicht Tragmittel [kg]'] = data['Gewicht Tragmittel [kg]'].str.replace(',', '.').astype(float)\n"
   ]
  },
  {
   "attachments": {},
   "cell_type": "markdown",
   "metadata": {},
   "source": [
    "*Berechnung des kubischen Mittelwertes k. Gewicht des Tragmittels wird vernachlaessigt*"
   ]
  },
  {
   "cell_type": "code",
   "execution_count": 30,
   "metadata": {},
   "outputs": [
    {
     "name": "stdout",
     "output_type": "stream",
     "text": [
      "Gewicht des Tragmittels kann vernachlassigt werden\n"
     ]
    }
   ],
   "source": [
    "import numpy as np\n",
    "\n",
    "tragfahigkeit = 5000\n",
    "\n",
    "laufzeit = np.array(data['Laufzeit [min]'])\n",
    "t = laufzeit/np.sum(laufzeit)\n",
    "alpha = np.array(data['Gewicht Tragmittel [kg]'] / tragfahigkeit)\n",
    "beta = np.array(data['Nutzlast [kg]'] / tragfahigkeit)\n",
    "gamma = np.array(data['Gewicht Tragmittel [kg]'] / tragfahigkeit)\n",
    "delta = tragfahigkeit / (tragfahigkeit + np.array(data['Gewicht Tragmittel [kg]']))\n",
    "\n",
    "\n",
    "if(alpha.max() > 0.05):\n",
    "    print('Gewicht des Tragmittels kann NICHT vernachlassigt werden')\n",
    "elif(alpha.max() <= 0.05):\n",
    "    print('Gewicht des Tragmittels kann vernachlassigt werden')\n",
    "    \n",
    "  \n",
    "\n"
   ]
  },
  {
   "attachments": {},
   "cell_type": "markdown",
   "metadata": {},
   "source": [
    "*Berechnung des kubischen Mittelwerts unter vernachlaessigung des Gewichts des Tragmittels*"
   ]
  },
  {
   "cell_type": "code",
   "execution_count": 31,
   "metadata": {},
   "outputs": [],
   "source": [
    "# Berechnung der Therme in der Wurzel\n",
    "therme = np.zeros_like(t)\n",
    "\n",
    "for i in range(len(t)):\n",
    "    therme[i] = np.sqrt(((beta[i] + gamma[i]) ** 3) * t[i])\n",
    "    \n",
    "k = np.sum(therme)"
   ]
  },
  {
   "attachments": {},
   "cell_type": "markdown",
   "metadata": {},
   "source": [
    "*Auswertung des Kubischen Mittelwertes*"
   ]
  },
  {
   "cell_type": "code",
   "execution_count": 32,
   "metadata": {},
   "outputs": [
    {
     "name": "stdout",
     "output_type": "stream",
     "text": [
      "Das Lastkollektiv ist Leicht\n"
     ]
    }
   ],
   "source": [
    "if(k < 0,53):\n",
    "    print('Das Lastkollektiv ist Leicht')\n",
    "elif(0,53 < k < 0,67):\n",
    "    print('Das Lastkollektiv ist Leicht')\n",
    "elif(0,67 < k < 0,85):\n",
    "    print('Das Lastkollektiv ist Leicht')\n",
    "else:\n",
    "    print('Fehler')"
   ]
  }
 ],
 "metadata": {
  "kernelspec": {
   "display_name": "Python 3",
   "language": "python",
   "name": "python3"
  },
  "language_info": {
   "codemirror_mode": {
    "name": "ipython",
    "version": 3
   },
   "file_extension": ".py",
   "mimetype": "text/x-python",
   "name": "python",
   "nbconvert_exporter": "python",
   "pygments_lexer": "ipython3",
   "version": "3.10.11"
  },
  "orig_nbformat": 4
 },
 "nbformat": 4,
 "nbformat_minor": 2
}
